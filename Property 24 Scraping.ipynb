{
 "cells": [
  {
   "cell_type": "code",
   "execution_count": 1,
   "metadata": {},
   "outputs": [],
   "source": [
    "import scrapy\n",
    "from scrapy.crawler import CrawlerProcess\n",
    "\n",
    "#prop24_features = {Bedrooms:0, Bathrooms:0}"
   ]
  },
  {
   "cell_type": "code",
   "execution_count": 2,
   "metadata": {},
   "outputs": [
    {
     "name": "stderr",
     "output_type": "stream",
     "text": [
      "2019-11-25 22:06:36 [scrapy.utils.log] INFO: Scrapy 1.6.0 started (bot: scrapybot)\n",
      "2019-11-25 22:06:36 [scrapy.utils.log] INFO: Versions: lxml 4.3.4.0, libxml2 2.9.9, cssselect 1.1.0, parsel 1.5.2, w3lib 1.21.0, Twisted 19.10.0, Python 3.7.3 (default, Mar 27 2019, 16:54:48) - [Clang 4.0.1 (tags/RELEASE_401/final)], pyOpenSSL 19.0.0 (OpenSSL 1.1.1d  10 Sep 2019), cryptography 2.7, Platform Darwin-18.7.0-x86_64-i386-64bit\n",
      "2019-11-25 22:06:36 [scrapy.crawler] INFO: Overridden settings: {}\n",
      "2019-11-25 22:06:36 [scrapy.extensions.telnet] INFO: Telnet Password: 0efb045592bdbcc8\n",
      "2019-11-25 22:06:36 [scrapy.middleware] INFO: Enabled extensions:\n",
      "['scrapy.extensions.corestats.CoreStats',\n",
      " 'scrapy.extensions.telnet.TelnetConsole',\n",
      " 'scrapy.extensions.memusage.MemoryUsage',\n",
      " 'scrapy.extensions.logstats.LogStats']\n",
      "2019-11-25 22:06:36 [scrapy.middleware] INFO: Enabled downloader middlewares:\n",
      "['scrapy.downloadermiddlewares.httpauth.HttpAuthMiddleware',\n",
      " 'scrapy.downloadermiddlewares.downloadtimeout.DownloadTimeoutMiddleware',\n",
      " 'scrapy.downloadermiddlewares.defaultheaders.DefaultHeadersMiddleware',\n",
      " 'scrapy.downloadermiddlewares.useragent.UserAgentMiddleware',\n",
      " 'scrapy.downloadermiddlewares.retry.RetryMiddleware',\n",
      " 'scrapy.downloadermiddlewares.redirect.MetaRefreshMiddleware',\n",
      " 'scrapy.downloadermiddlewares.httpcompression.HttpCompressionMiddleware',\n",
      " 'scrapy.downloadermiddlewares.redirect.RedirectMiddleware',\n",
      " 'scrapy.downloadermiddlewares.cookies.CookiesMiddleware',\n",
      " 'scrapy.downloadermiddlewares.httpproxy.HttpProxyMiddleware',\n",
      " 'scrapy.downloadermiddlewares.stats.DownloaderStats']\n",
      "2019-11-25 22:06:36 [scrapy.middleware] INFO: Enabled spider middlewares:\n",
      "['scrapy.spidermiddlewares.httperror.HttpErrorMiddleware',\n",
      " 'scrapy.spidermiddlewares.offsite.OffsiteMiddleware',\n",
      " 'scrapy.spidermiddlewares.referer.RefererMiddleware',\n",
      " 'scrapy.spidermiddlewares.urllength.UrlLengthMiddleware',\n",
      " 'scrapy.spidermiddlewares.depth.DepthMiddleware']\n",
      "2019-11-25 22:06:36 [scrapy.middleware] INFO: Enabled item pipelines:\n",
      "[]\n",
      "2019-11-25 22:06:36 [scrapy.core.engine] INFO: Spider opened\n",
      "2019-11-25 22:06:36 [scrapy.extensions.logstats] INFO: Crawled 0 pages (at 0 pages/min), scraped 0 items (at 0 items/min)\n",
      "2019-11-25 22:06:36 [scrapy.extensions.telnet] INFO: Telnet console listening on 127.0.0.1:6023\n",
      "2019-11-25 22:06:37 [scrapy.core.engine] DEBUG: Crawled (200) <GET https://www.property24.com/for-sale/cape-town/western-cape/432> (referer: None)\n",
      "2019-11-25 22:06:37 [scrapy.core.engine] INFO: Closing spider (finished)\n",
      "2019-11-25 22:06:37 [scrapy.statscollectors] INFO: Dumping Scrapy stats:\n",
      "{'downloader/request_bytes': 252,\n",
      " 'downloader/request_count': 1,\n",
      " 'downloader/request_method_count/GET': 1,\n",
      " 'downloader/response_bytes': 39591,\n",
      " 'downloader/response_count': 1,\n",
      " 'downloader/response_status_count/200': 1,\n",
      " 'finish_reason': 'finished',\n",
      " 'finish_time': datetime.datetime(2019, 11, 25, 20, 6, 37, 430561),\n",
      " 'log_count/DEBUG': 1,\n",
      " 'log_count/INFO': 9,\n",
      " 'memusage/max': 71282688,\n",
      " 'memusage/startup': 71282688,\n",
      " 'response_received_count': 1,\n",
      " 'scheduler/dequeued': 1,\n",
      " 'scheduler/dequeued/memory': 1,\n",
      " 'scheduler/enqueued': 1,\n",
      " 'scheduler/enqueued/memory': 1,\n",
      " 'start_time': datetime.datetime(2019, 11, 25, 20, 6, 36, 978077)}\n",
      "2019-11-25 22:06:37 [scrapy.core.engine] INFO: Spider closed (finished)\n"
     ]
    },
    {
     "name": "stdout",
     "output_type": "stream",
     "text": [
      "['2450000', '2499000', '32000000', '5900000', '1050000', '1450000', '6350000', '1250000', '2350000', '8950000', '2950000', '3750000', '1250000', '2050000', '34000000', '5700000', '3650000', '2585000']\n",
      "['2', '3', '2', '2', '4', '1', '5', '2', '2', '2', '3', '1', '2', '3', '5', '4', '1', '3', '3', '1', '3']\n",
      "['2', '3.5', '1', '1', '3.5', '1', '5.5', '2', '1', '1', '2.5', '1', '1', '4', '4', '3', '1', '2.5', '3', '2', '2.5']\n",
      "['186 m²', '380 m²', '87 m²', '40 m²', '449 m²', '90 m²', '70 m²', '129 m²', '65 m²', '78 m²', '65 m²', '4 867 m²', '188 m²']\n",
      "['2', '2', '3', '2', '2', '1', '2', '3', '2', '1', '2', '1']\n",
      "['Oranjezicht', 'Clifton', 'Observatory', 'Belhar']\n"
     ]
    }
   ],
   "source": [
    "class Prop24(scrapy.spiders.Spider):\n",
    "    name = 'Prop24'\n",
    "    \n",
    "    def start_requests(self):\n",
    "        urls = ['https://www.property24.com/for-sale/cape-town/western-cape/432']\n",
    "            \n",
    "        for url in urls:\n",
    "            yield scrapy.Request(url=url, callback=self.parse)\n",
    "                \n",
    "    def parse(self, response):\n",
    "        links = response.xpath('//div[contains(@class,\"js_resultTile\")]/div/a/@href').extract()\n",
    "        price = response.css('span.p24_price').xpath('./@content').extract()\n",
    "        Bedrooms = response.xpath('//span[@class=\"p24_featureDetails\" and contains(@title,\"Bedrooms\")]/span/text()').extract()\n",
    "        Bathrooms = response.xpath('//span[@class=\"p24_featureDetails\" and contains(@title,\"Bathrooms\")]/span/text()').extract()\n",
    "        Size = response.xpath('//span[@class=\"p24_size\" and contains(@title,\"Floor Size\")]/span/text()').extract()\n",
    "        Garage = response.xpath('//span[@class=\"p24_featureDetails\" and contains(@title,\"Garages\")]/span/text()').extract()\n",
    "        Location = response.xpath('//span[@class=\"p24_location\"]/text()').extract()\n",
    "                \n",
    "        print(price)\n",
    "        print(Bedrooms)\n",
    "        print(Bathrooms)\n",
    "        print(Size)\n",
    "        print(Garage)\n",
    "        print(Location)\n",
    "        \n",
    "        #for link in links:\n",
    "         #   yield response.follow(url=link, callback=self.parse2)\n",
    "\n",
    "            \n",
    "    #def parse2(self, response):\n",
    "     #       Feature = response.xpath('//div[@class=\"p24_listingFeatures\"]/span[2]/text()').extract()\n",
    "      #      FeatureAmount = response.xpath('//div[@class=\"p24_listingFeatures\"]/span[3]/text()').extract()\n",
    "       #     Feature2=response.xpath('//div[@class=\"col-xs-6 p24_propertyOverviewKey\"]/text()').extract()\n",
    "        #    FeatureAmount2=response.xpath('//div[@class=\"col-xs-6 noPadding\"]/div/text()').extract()\n",
    "         #   print(FeatureAmount2)\n",
    "\n",
    "            \n",
    "process = CrawlerProcess()\n",
    "process.crawl(Prop24)\n",
    "process.start()"
   ]
  },
  {
   "cell_type": "code",
   "execution_count": null,
   "metadata": {},
   "outputs": [],
   "source": []
  },
  {
   "cell_type": "code",
   "execution_count": null,
   "metadata": {},
   "outputs": [],
   "source": []
  }
 ],
 "metadata": {
  "kernelspec": {
   "display_name": "Python 3",
   "language": "python",
   "name": "python3"
  },
  "language_info": {
   "codemirror_mode": {
    "name": "ipython",
    "version": 3
   },
   "file_extension": ".py",
   "mimetype": "text/x-python",
   "name": "python",
   "nbconvert_exporter": "python",
   "pygments_lexer": "ipython3",
   "version": "3.7.3"
  }
 },
 "nbformat": 4,
 "nbformat_minor": 2
}
