{
 "cells": [
  {
   "cell_type": "code",
   "execution_count": 1,
   "metadata": {},
   "outputs": [],
   "source": [
    "import scrapy\n",
    "from scrapy.crawler import CrawlerProcess"
   ]
  },
  {
   "cell_type": "code",
   "execution_count": 2,
   "metadata": {},
   "outputs": [
    {
     "name": "stderr",
     "output_type": "stream",
     "text": [
      "2019-11-25 15:23:26 [scrapy.utils.log] INFO: Scrapy 1.8.0 started (bot: scrapybot)\n",
      "2019-11-25 15:23:26 [scrapy.utils.log] INFO: Versions: lxml 4.4.1.0, libxml2 2.9.5, cssselect 1.1.0, parsel 1.5.2, w3lib 1.21.0, Twisted 19.10.0, Python 3.7.5 (tags/v3.7.5:5c02a39a0b, Oct 15 2019, 00:11:34) [MSC v.1916 64 bit (AMD64)], pyOpenSSL 19.1.0 (OpenSSL 1.1.1d  10 Sep 2019), cryptography 2.8, Platform Windows-7-6.1.7601-SP1\n",
      "2019-11-25 15:23:26 [scrapy.crawler] INFO: Overridden settings: {}\n",
      "2019-11-25 15:23:26 [scrapy.extensions.telnet] INFO: Telnet Password: d21bbcdcc90918d1\n",
      "2019-11-25 15:23:26 [scrapy.middleware] INFO: Enabled extensions:\n",
      "['scrapy.extensions.corestats.CoreStats',\n",
      " 'scrapy.extensions.telnet.TelnetConsole',\n",
      " 'scrapy.extensions.logstats.LogStats']\n",
      "2019-11-25 15:23:26 [scrapy.middleware] INFO: Enabled downloader middlewares:\n",
      "['scrapy.downloadermiddlewares.httpauth.HttpAuthMiddleware',\n",
      " 'scrapy.downloadermiddlewares.downloadtimeout.DownloadTimeoutMiddleware',\n",
      " 'scrapy.downloadermiddlewares.defaultheaders.DefaultHeadersMiddleware',\n",
      " 'scrapy.downloadermiddlewares.useragent.UserAgentMiddleware',\n",
      " 'scrapy.downloadermiddlewares.retry.RetryMiddleware',\n",
      " 'scrapy.downloadermiddlewares.redirect.MetaRefreshMiddleware',\n",
      " 'scrapy.downloadermiddlewares.httpcompression.HttpCompressionMiddleware',\n",
      " 'scrapy.downloadermiddlewares.redirect.RedirectMiddleware',\n",
      " 'scrapy.downloadermiddlewares.cookies.CookiesMiddleware',\n",
      " 'scrapy.downloadermiddlewares.httpproxy.HttpProxyMiddleware',\n",
      " 'scrapy.downloadermiddlewares.stats.DownloaderStats']\n",
      "2019-11-25 15:23:26 [scrapy.middleware] INFO: Enabled spider middlewares:\n",
      "['scrapy.spidermiddlewares.httperror.HttpErrorMiddleware',\n",
      " 'scrapy.spidermiddlewares.offsite.OffsiteMiddleware',\n",
      " 'scrapy.spidermiddlewares.referer.RefererMiddleware',\n",
      " 'scrapy.spidermiddlewares.urllength.UrlLengthMiddleware',\n",
      " 'scrapy.spidermiddlewares.depth.DepthMiddleware']\n",
      "2019-11-25 15:23:26 [scrapy.middleware] INFO: Enabled item pipelines:\n",
      "[]\n",
      "2019-11-25 15:23:26 [scrapy.core.engine] INFO: Spider opened\n",
      "2019-11-25 15:23:26 [scrapy.extensions.logstats] INFO: Crawled 0 pages (at 0 pages/min), scraped 0 items (at 0 items/min)\n",
      "2019-11-25 15:23:26 [scrapy.extensions.telnet] INFO: Telnet console listening on 127.0.0.1:6023\n",
      "2019-11-25 15:23:27 [scrapy.core.engine] DEBUG: Crawled (200) <GET https://www.property24.com/for-sale/cape-town/western-cape/432> (referer: None)\n",
      "2019-11-25 15:23:27 [scrapy.core.engine] INFO: Closing spider (finished)\n",
      "2019-11-25 15:23:27 [scrapy.statscollectors] INFO: Dumping Scrapy stats:\n",
      "{'downloader/request_bytes': 252,\n",
      " 'downloader/request_count': 1,\n",
      " 'downloader/request_method_count/GET': 1,\n",
      " 'downloader/response_bytes': 39245,\n",
      " 'downloader/response_count': 1,\n",
      " 'downloader/response_status_count/200': 1,\n",
      " 'elapsed_time_seconds': 0.394023,\n",
      " 'finish_reason': 'finished',\n",
      " 'finish_time': datetime.datetime(2019, 11, 25, 13, 23, 27, 230098),\n",
      " 'log_count/DEBUG': 1,\n",
      " 'log_count/INFO': 10,\n",
      " 'response_received_count': 1,\n",
      " 'scheduler/dequeued': 1,\n",
      " 'scheduler/dequeued/memory': 1,\n",
      " 'scheduler/enqueued': 1,\n",
      " 'scheduler/enqueued/memory': 1,\n",
      " 'start_time': datetime.datetime(2019, 11, 25, 13, 23, 26, 836075)}\n",
      "2019-11-25 15:23:27 [scrapy.core.engine] INFO: Spider closed (finished)\n"
     ]
    },
    {
     "name": "stdout",
     "output_type": "stream",
     "text": [
      "['1250000', '14999999', '18950000', '2195000', '3095000', '23000000', '8900000', '2900000', '10000', '2350000', '2350000', '1200000', '2350000', '1280000', '2000000', '1749000', '4500000', '995000']\n",
      "['4', '3', '2', '2', '1', '5', '3', '2', '5', '5', '3', '4', '1', '1', '2', '1', '3', '3', '2', '3', '1']\n",
      "['4.5', '3.5', '1', '1', '1', '3', '3.5', '2', '4', '8.5', '3', '2', '1', '1', '1', '1', '1', '2', '1', '2', '1']\n",
      "['380 m²', '87 m²', '40 m²', '37 m²', '79 m²', '150 m²', '50 m²', '50 m²', '55 m²', '50 m²', '93 m²', '43 m²']\n",
      "['2', '2', '1', '2', '6', '2', '2', '1', '1', '1', '1', '1', '1']\n"
     ]
    }
   ],
   "source": [
    "class Prop24(scrapy.spiders.Spider):\n",
    "    name = 'Prop24'\n",
    "    \n",
    "    def start_requests(self):\n",
    "        urls = ['https://www.property24.com/for-sale/cape-town/western-cape/432']\n",
    "            \n",
    "        for url in urls:\n",
    "            yield scrapy.Request(url=url, callback=self.parse)\n",
    "                \n",
    "    def parse(self, response):\n",
    "            price = response.css('span.p24_price').xpath('./@content').extract()\n",
    "            Bedrooms = response.xpath('//span[@class=\"p24_featureDetails\" and contains(@title,\"Bedrooms\")]/span/text()').extract()\n",
    "            Bathrooms = response.xpath('//span[@class=\"p24_featureDetails\" and contains(@title,\"Bathrooms\")]/span/text()').extract()\n",
    "            Size = response.xpath('//span[@class=\"p24_size\" and contains(@title,\"Floor Size\")]/span/text()').extract()\n",
    "            Garage = response.xpath('//span[@class=\"p24_featureDetails\" and contains(@title,\"Garages\")]/span/text()').extract()\n",
    "            \n",
    "            print(price)\n",
    "            print(Bedrooms)\n",
    "            print(Bathrooms)\n",
    "            print(Size)\n",
    "            print(Garage)\n",
    "            \n",
    "process = CrawlerProcess()\n",
    "process.crawl(Prop24)\n",
    "process.start()"
   ]
  },
  {
   "cell_type": "code",
   "execution_count": null,
   "metadata": {},
   "outputs": [],
   "source": []
  },
  {
   "cell_type": "code",
   "execution_count": null,
   "metadata": {},
   "outputs": [],
   "source": []
  }
 ],
 "metadata": {
  "kernelspec": {
   "display_name": "Python 3",
   "language": "python",
   "name": "python3"
  },
  "language_info": {
   "codemirror_mode": {
    "name": "ipython",
    "version": 3
   },
   "file_extension": ".py",
   "mimetype": "text/x-python",
   "name": "python",
   "nbconvert_exporter": "python",
   "pygments_lexer": "ipython3",
   "version": "3.7.5"
  }
 },
 "nbformat": 4,
 "nbformat_minor": 2
}
